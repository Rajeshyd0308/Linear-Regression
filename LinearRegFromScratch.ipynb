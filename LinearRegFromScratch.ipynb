{
 "cells": [
  {
   "cell_type": "code",
   "execution_count": 125,
   "metadata": {
    "collapsed": true
   },
   "outputs": [],
   "source": [
    "import numpy as np\n",
    "import pandas as pd\n",
    "import seaborn as sns\n",
    "import matplotlib\n",
    "import matplotlib.pyplot as plt\n",
    "%matplotlib inline"
   ]
  },
  {
   "cell_type": "markdown",
   "metadata": {},
   "source": [
    "###### Importing dataset HousingData.txt"
   ]
  },
  {
   "cell_type": "code",
   "execution_count": 126,
   "metadata": {
    "collapsed": true
   },
   "outputs": [],
   "source": [
    "dataset = pd.read_csv(\"HousingData.txt\", names= [\"size_sqft\",\"bedrooms\",\"price\"], header=None)"
   ]
  },
  {
   "cell_type": "code",
   "execution_count": 127,
   "metadata": {
    "collapsed": false
   },
   "outputs": [
    {
     "data": {
      "text/html": [
       "<div>\n",
       "<table border=\"1\" class=\"dataframe\">\n",
       "  <thead>\n",
       "    <tr style=\"text-align: right;\">\n",
       "      <th></th>\n",
       "      <th>size_sqft</th>\n",
       "      <th>bedrooms</th>\n",
       "      <th>price</th>\n",
       "    </tr>\n",
       "  </thead>\n",
       "  <tbody>\n",
       "    <tr>\n",
       "      <th>count</th>\n",
       "      <td>47.000000</td>\n",
       "      <td>47.000000</td>\n",
       "      <td>47.000000</td>\n",
       "    </tr>\n",
       "    <tr>\n",
       "      <th>mean</th>\n",
       "      <td>2000.680851</td>\n",
       "      <td>3.170213</td>\n",
       "      <td>340412.659574</td>\n",
       "    </tr>\n",
       "    <tr>\n",
       "      <th>std</th>\n",
       "      <td>794.702354</td>\n",
       "      <td>0.760982</td>\n",
       "      <td>125039.899586</td>\n",
       "    </tr>\n",
       "    <tr>\n",
       "      <th>min</th>\n",
       "      <td>852.000000</td>\n",
       "      <td>1.000000</td>\n",
       "      <td>169900.000000</td>\n",
       "    </tr>\n",
       "    <tr>\n",
       "      <th>25%</th>\n",
       "      <td>1432.000000</td>\n",
       "      <td>3.000000</td>\n",
       "      <td>249900.000000</td>\n",
       "    </tr>\n",
       "    <tr>\n",
       "      <th>50%</th>\n",
       "      <td>1888.000000</td>\n",
       "      <td>3.000000</td>\n",
       "      <td>299900.000000</td>\n",
       "    </tr>\n",
       "    <tr>\n",
       "      <th>75%</th>\n",
       "      <td>2269.000000</td>\n",
       "      <td>4.000000</td>\n",
       "      <td>384450.000000</td>\n",
       "    </tr>\n",
       "    <tr>\n",
       "      <th>max</th>\n",
       "      <td>4478.000000</td>\n",
       "      <td>5.000000</td>\n",
       "      <td>699900.000000</td>\n",
       "    </tr>\n",
       "  </tbody>\n",
       "</table>\n",
       "</div>"
      ],
      "text/plain": [
       "         size_sqft   bedrooms          price\n",
       "count    47.000000  47.000000      47.000000\n",
       "mean   2000.680851   3.170213  340412.659574\n",
       "std     794.702354   0.760982  125039.899586\n",
       "min     852.000000   1.000000  169900.000000\n",
       "25%    1432.000000   3.000000  249900.000000\n",
       "50%    1888.000000   3.000000  299900.000000\n",
       "75%    2269.000000   4.000000  384450.000000\n",
       "max    4478.000000   5.000000  699900.000000"
      ]
     },
     "execution_count": 127,
     "metadata": {},
     "output_type": "execute_result"
    }
   ],
   "source": [
    "dataset.describe()"
   ]
  },
  {
   "cell_type": "code",
   "execution_count": 128,
   "metadata": {
    "collapsed": false
   },
   "outputs": [
    {
     "name": "stdout",
     "output_type": "stream",
     "text": [
      "<class 'pandas.core.frame.DataFrame'>\n",
      "RangeIndex: 47 entries, 0 to 46\n",
      "Data columns (total 3 columns):\n",
      "size_sqft    47 non-null int64\n",
      "bedrooms     47 non-null int64\n",
      "price        47 non-null int64\n",
      "dtypes: int64(3)\n",
      "memory usage: 1.2 KB\n"
     ]
    }
   ],
   "source": [
    "dataset.info()"
   ]
  },
  {
   "cell_type": "code",
   "execution_count": 129,
   "metadata": {
    "collapsed": false
   },
   "outputs": [
    {
     "data": {
      "image/png": "[encoded data removed]",
      "text/plain": [
       "<matplotlib.figure.Figure at 0xb38ec18>"
      ]
     },
     "metadata": {},
     "output_type": "display_data"
    }
   ],
   "source": [
    "plt.scatter(dataset['price'],dataset['size_sqft'])\n",
    "plt.show()"
   ]
  },
  {
   "cell_type": "code",
   "execution_count": 130,
   "metadata": {
    "collapsed": true
   },
   "outputs": [],
   "source": [
    "np.random.seed(3)\n",
    "def split_train_test(X, y, test_set_ratio = 0.1):\n",
    "    shuffled_indices = np.random.permutation(len(X))\n",
    "    temp = int(test_set_ratio*len(X))\n",
    "    test_indices = shuffled_indices[:temp]\n",
    "    train_indices = shuffled_indices[temp:]\n",
    "    x_train = X.iloc[train_indices]\n",
    "    y_train = y.iloc[train_indices]\n",
    "    x_test = X.iloc[test_indices]\n",
    "    y_test = y.iloc[test_indices]\n",
    "    return x_train, y_train, x_test, y_test"
   ]
  },
  {
   "cell_type": "code",
   "execution_count": 131,
   "metadata": {
    "collapsed": false
   },
   "outputs": [
    {
     "name": "stdout",
     "output_type": "stream",
     "text": [
      "(47, 2) (47,)\n"
     ]
    }
   ],
   "source": [
    "y = dataset['price']\n",
    "X = dataset.drop('price', axis=1)\n",
    "print(X.shape, y.shape)"
   ]
  },
  {
   "cell_type": "code",
   "execution_count": 132,
   "metadata": {
    "collapsed": false
   },
   "outputs": [
    {
     "name": "stdout",
     "output_type": "stream",
     "text": [
      "(45, 2) (45,) (2, 2) (2,)\n"
     ]
    }
   ],
   "source": [
    "x_train, y_train, x_test, y_test = split_train_test(X,y,test_set_ratio = 0.05)\n",
    "print(x_train.shape, y_train.shape, x_test.shape, y_test.shape)"
   ]
  },
  {
   "cell_type": "code",
   "execution_count": 133,
   "metadata": {
    "collapsed": false
   },
   "outputs": [
    {
     "data": {
      "text/plain": [
       "<matplotlib.axes._subplots.AxesSubplot at 0xcd09320>"
      ]
     },
     "execution_count": 133,
     "metadata": {},
     "output_type": "execute_result"
    },
    {
     "data": {
      "image/png": "[encoded data removed]",
      "text/plain": [
       "<matplotlib.figure.Figure at 0xccbbf60>"
      ]
     },
     "metadata": {},
     "output_type": "display_data"
    }
   ],
   "source": [
    "X['size_sqft'].hist()\n"
   ]
  },
  {
   "cell_type": "code",
   "execution_count": 134,
   "metadata": {
    "collapsed": false
   },
   "outputs": [
    {
     "data": {
      "text/plain": [
       "<matplotlib.axes._subplots.AxesSubplot at 0xcdb5b38>"
      ]
     },
     "execution_count": 134,
     "metadata": {},
     "output_type": "execute_result"
    },
    {
     "data": {
      "image/png": "[encoded data removed]",
      "text/plain": [
       "<matplotlib.figure.Figure at 0xcce2f98>"
      ]
     },
     "metadata": {},
     "output_type": "display_data"
    }
   ],
   "source": [
    "X['bedrooms'].hist()"
   ]
  },
  {
   "cell_type": "code",
   "execution_count": 135,
   "metadata": {
    "collapsed": false
   },
   "outputs": [],
   "source": [
    "#normalizing features to mean 0 and std 1\n",
    "from sklearn.preprocessing import StandardScaler\n",
    "sc = StandardScaler()\n",
    "x_train = sc.fit_transform(x_train)\n",
    "x_test = sc.fit_transform(x_test)"
   ]
  },
  {
   "cell_type": "code",
   "execution_count": 136,
   "metadata": {
    "collapsed": true
   },
   "outputs": [],
   "source": [
    "m,f = x_train.shape\n",
    "y_train = y_train.reshape(1,m)\n",
    "y_test = y_test.reshape(1,x_test.shape[0])\n",
    "x_train = x_train.T\n",
    "x_test = x_test.T"
   ]
  },
  {
   "cell_type": "code",
   "execution_count": 137,
   "metadata": {
    "collapsed": true
   },
   "outputs": [],
   "source": [
    "def initialize_parameters(features_count):\n",
    "    W = np.random.random((1, features_count))\n",
    "    b = np.random.random((1,1))\n",
    "    return W,b"
   ]
  },
  {
   "cell_type": "markdown",
   "metadata": {},
   "source": []
  },
  {
   "cell_type": "code",
   "execution_count": 138,
   "metadata": {
    "collapsed": true
   },
   "outputs": [],
   "source": [
    "def compute_cost(y_hat, y):\n",
    "    m = y.shape[1]\n",
    "    cost = (1/m)*np.sum(((y_hat-y)**2))\n",
    "    return cost"
   ]
  },
  {
   "cell_type": "code",
   "execution_count": 139,
   "metadata": {
    "collapsed": true
   },
   "outputs": [],
   "source": [
    "def compute_price(W, b, x):\n",
    "    price = np.dot(W, x) +b\n",
    "    return price"
   ]
  },
  {
   "cell_type": "code",
   "execution_count": 140,
   "metadata": {
    "collapsed": true
   },
   "outputs": [],
   "source": [
    "def gradients(y_hat, y, x):\n",
    "    m = y.shape[1]\n",
    "    temp = y_hat-y\n",
    "    db = (1/m)*np.sum(temp)\n",
    "    dW = (1/m)*np.dot(temp, x.T)\n",
    "    grads={}\n",
    "    grads['dW'] = dW\n",
    "    grads['db'] = db\n",
    "    return grads"
   ]
  },
  {
   "cell_type": "code",
   "execution_count": 141,
   "metadata": {
    "collapsed": true
   },
   "outputs": [],
   "source": [
    "#Not used\n",
    "def update_parameters(W, b, grads, learning_rate=0.01):\n",
    "    dW = grads['dW']\n",
    "    db = grads['db']\n",
    "    W = W - learning_rate*dW\n",
    "    b = b - learning_rate*db\n",
    "    return W,b"
   ]
  },
  {
   "cell_type": "code",
   "execution_count": 152,
   "metadata": {
    "collapsed": false
   },
   "outputs": [],
   "source": [
    "def complete(x_train, y_train, m, f):\n",
    "    x = x_train\n",
    "    y = y_train\n",
    "    learning_rate = 0.1\n",
    "    costs= []\n",
    "    W,b = initialize_parameters(f)\n",
    "    dWv = np.zeros(W.shape)\n",
    "    dbv = np.zeros(b.shape)\n",
    "    for i in range(1,100):\n",
    "        y_hat = compute_price(W, b, x)\n",
    "        cost = compute_cost(y_hat, y)\n",
    "        costs.append(cost)\n",
    "        print(\"Iteration number is \"+str(i)+\" Cost is \"+str(cost))\n",
    "        grads = gradients(y_hat, y, x)\n",
    "        dW = grads['dW']\n",
    "        db = grads['db']\n",
    "        #Momentum update\n",
    "        dWv = 0.9*dWv + 0.1*dW\n",
    "        dbv = 0.9*dbv + 0.1*db\n",
    "        W = W - learning_rate*dWv\n",
    "        b = b - learning_rate*db\n",
    "    return W,b,costs\n",
    "    "
   ]
  },
  {
   "cell_type": "code",
   "execution_count": 153,
   "metadata": {
    "collapsed": false
   },
   "outputs": [
    {
     "name": "stdout",
     "output_type": "stream",
     "text": [
      "Iteration number is 1 Cost is 134905730466.0\n",
      "Iteration number is 2 Cost is 111892360517.0\n",
      "Iteration number is 3 Cost is 92973033847.8\n",
      "Iteration number is 4 Cost is 77374660883.6\n",
      "Iteration number is 5 Cost is 64482793246.2\n",
      "Iteration number is 6 Cost is 53808454035.4\n",
      "Iteration number is 7 Cost is 44961339814.4\n",
      "Iteration number is 8 Cost is 37628341352.7\n",
      "Iteration number is 9 Cost is 31556487074.6\n",
      "Iteration number is 10 Cost is 26539541831.4\n",
      "Iteration number is 11 Cost is 22407601526.8\n",
      "Iteration number is 12 Cost is 19019116715.5\n",
      "Iteration number is 13 Cost is 16254859389.2\n",
      "Iteration number is 14 Cost is 14013419319.6\n",
      "Iteration number is 15 Cost is 12207881195.7\n",
      "Iteration number is 16 Cost is 10763392317.9\n",
      "Iteration number is 17 Cost is 9615383314.25\n",
      "Iteration number is 18 Cost is 8708251469.9\n",
      "Iteration number is 19 Cost is 7994357896.63\n",
      "Iteration number is 20 Cost is 7433225993.83\n",
      "Iteration number is 21 Cost is 6990859546.93\n",
      "Iteration number is 22 Cost is 6639124542.64\n",
      "Iteration number is 23 Cost is 6355159602.53\n",
      "Iteration number is 24 Cost is 6120796192.32\n",
      "Iteration number is 25 Cost is 5921981880.59\n",
      "Iteration number is 26 Cost is 5748208387.05\n",
      "Iteration number is 27 Cost is 5591951509.95\n",
      "Iteration number is 28 Cost is 5448132803.11\n",
      "Iteration number is 29 Cost is 5313613630.0\n",
      "Iteration number is 30 Cost is 5186731470.52\n",
      "Iteration number is 31 Cost is 5066886569.59\n",
      "Iteration number is 32 Cost is 4954184610.8\n",
      "Iteration number is 33 Cost is 4849138424.04\n",
      "Iteration number is 34 Cost is 4752429075.95\n",
      "Iteration number is 35 Cost is 4664724258.93\n",
      "Iteration number is 36 Cost is 4586549836.46\n",
      "Iteration number is 37 Cost is 4518208808.13\n",
      "Iteration number is 38 Cost is 4459740863.94\n",
      "Iteration number is 39 Cost is 4410915099.01\n",
      "Iteration number is 40 Cost is 4371248318.57\n",
      "Iteration number is 41 Cost is 4340041617.45\n",
      "Iteration number is 42 Cost is 4316428492.09\n",
      "Iteration number is 43 Cost is 4299428553.65\n",
      "Iteration number is 44 Cost is 4288001874.54\n",
      "Iteration number is 45 Cost is 4281100040.2\n",
      "Iteration number is 46 Cost is 4277711023.85\n",
      "Iteration number is 47 Cost is 4276895997.22\n",
      "Iteration number is 48 Cost is 4277817090.03\n",
      "Iteration number is 49 Cost is 4279755884.61\n",
      "Iteration number is 50 Cost is 4282123060.58\n",
      "Iteration number is 51 Cost is 4284460080.99\n",
      "Iteration number is 52 Cost is 4286434138.9\n",
      "Iteration number is 53 Cost is 4287827771.73\n",
      "Iteration number is 54 Cost is 4288524617.51\n",
      "Iteration number is 55 Cost is 4288492751.26\n",
      "Iteration number is 56 Cost is 4287766924.4\n",
      "Iteration number is 57 Cost is 4286430856.83\n",
      "Iteration number is 58 Cost is 4284600522.38\n",
      "Iteration number is 59 Cost is 4282409142.31\n",
      "Iteration number is 60 Cost is 4279994375.78\n",
      "Iteration number is 61 Cost is 4277487983.31\n",
      "Iteration number is 62 Cost is 4275008050.0\n",
      "Iteration number is 63 Cost is 4272653695.9\n",
      "Iteration number is 64 Cost is 4270502075.25\n",
      "Iteration number is 65 Cost is 4268607375.63\n",
      "Iteration number is 66 Cost is 4267001470.28\n",
      "Iteration number is 67 Cost is 4265695850.58\n",
      "Iteration number is 68 Cost is 4264684464.69\n",
      "Iteration number is 69 Cost is 4263947109.67\n",
      "Iteration number is 70 Cost is 4263453061.37\n",
      "Iteration number is 71 Cost is 4263164674.83\n",
      "Iteration number is 72 Cost is 4263040741.69\n",
      "Iteration number is 73 Cost is 4263039448.02\n",
      "Iteration number is 74 Cost is 4263120829.55\n",
      "Iteration number is 75 Cost is 4263248671.88\n",
      "Iteration number is 76 Cost is 4263391845.92\n",
      "Iteration number is 77 Cost is 4263525104.86\n",
      "Iteration number is 78 Cost is 4263629395.4\n",
      "Iteration number is 79 Cost is 4263691755.41\n",
      "Iteration number is 80 Cost is 4263704880.62\n",
      "Iteration number is 81 Cost is 4263666446.98\n",
      "Iteration number is 82 Cost is 4263578273.65\n",
      "Iteration number is 83 Cost is 4263445404.67\n",
      "Iteration number is 84 Cost is 4263275177.72\n",
      "Iteration number is 85 Cost is 4263076336.3\n",
      "Iteration number is 86 Cost is 4262858228.34\n",
      "Iteration number is 87 Cost is 4262630121.58\n",
      "Iteration number is 88 Cost is 4262400653.23\n",
      "Iteration number is 89 Cost is 4262177420.42\n",
      "Iteration number is 90 Cost is 4261966708.75\n",
      "Iteration number is 91 Cost is 4261773348.62\n",
      "Iteration number is 92 Cost is 4261600683.41\n",
      "Iteration number is 93 Cost is 4261450630.47\n",
      "Iteration number is 94 Cost is 4261323813.82\n",
      "Iteration number is 95 Cost is 4261219747.31\n",
      "Iteration number is 96 Cost is 4261137048.26\n",
      "Iteration number is 97 Cost is 4261073663.39\n",
      "Iteration number is 98 Cost is 4261027091.71\n",
      "Iteration number is 99 Cost is 4260994592.08\n"
     ]
    }
   ],
   "source": [
    "W,b,costs = complete(x_train, y_train, m, f)"
   ]
  },
  {
   "cell_type": "code",
   "execution_count": 157,
   "metadata": {
    "collapsed": false
   },
   "outputs": [
    {
     "data": {
      "image/png": "[encoded data removed]",
      "text/plain": [
       "<matplotlib.figure.Figure at 0xcedf780>"
      ]
     },
     "metadata": {},
     "output_type": "display_data"
    }
   ],
   "source": [
    "costs = np.squeeze(costs)\n",
    "plt.plot(costs)\n",
    "plt.show()"
   ]
  },
  {
   "cell_type": "code",
   "execution_count": null,
   "metadata": {
    "collapsed": true
   },
   "outputs": [],
   "source": []
  }
 ],
 "metadata": {
  "anaconda-cloud": {},
  "kernelspec": {
   "display_name": "Python [conda root]",
   "language": "python",
   "name": "conda-root-py"
  },
  "language_info": {
   "codemirror_mode": {
    "name": "ipython",
    "version": 3
   },
   "file_extension": ".py",
   "mimetype": "text/x-python",
   "name": "python",
   "nbconvert_exporter": "python",
   "pygments_lexer": "ipython3",
   "version": "3.5.2"
  }
 },
 "nbformat": 4,
 "nbformat_minor": 1
}
